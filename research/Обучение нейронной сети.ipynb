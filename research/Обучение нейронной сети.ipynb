{
 "cells": [
  {
   "cell_type": "markdown",
   "id": "f0cff365",
   "metadata": {},
   "source": [
    "### Импорты"
   ]
  },
  {
   "cell_type": "code",
   "execution_count": 20,
   "id": "05b7d209",
   "metadata": {},
   "outputs": [],
   "source": [
    "import time\n",
    "import pickle\n",
    "import pandas as pd\n",
    "import torch\n",
    "from torch import nn\n",
    "from torchtext.data.utils import get_tokenizer\n",
    "from torchtext.vocab import build_vocab_from_iterator\n",
    "from torch.utils.data.dataset import random_split\n",
    "from torchtext.data.functional import to_map_style_dataset"
   ]
  },
  {
   "cell_type": "markdown",
   "id": "a8481361",
   "metadata": {},
   "source": [
    "### Загрузка данных"
   ]
  },
  {
   "cell_type": "code",
   "execution_count": 21,
   "id": "efbd805c",
   "metadata": {},
   "outputs": [
    {
     "data": {
      "text/html": [
       "<div>\n",
       "<style scoped>\n",
       "    .dataframe tbody tr th:only-of-type {\n",
       "        vertical-align: middle;\n",
       "    }\n",
       "\n",
       "    .dataframe tbody tr th {\n",
       "        vertical-align: top;\n",
       "    }\n",
       "\n",
       "    .dataframe thead th {\n",
       "        text-align: right;\n",
       "    }\n",
       "</style>\n",
       "<table border=\"1\" class=\"dataframe\">\n",
       "  <thead>\n",
       "    <tr style=\"text-align: right;\">\n",
       "      <th></th>\n",
       "      <th>name</th>\n",
       "      <th>link</th>\n",
       "      <th>class</th>\n",
       "    </tr>\n",
       "  </thead>\n",
       "  <tbody>\n",
       "    <tr>\n",
       "      <th>0</th>\n",
       "      <td>Экономика РФ</td>\n",
       "      <td>https://vk.com/ecoruss?trackcode=31eb2085TMD9J...</td>\n",
       "      <td>0</td>\n",
       "    </tr>\n",
       "    <tr>\n",
       "      <th>1</th>\n",
       "      <td>Экономика, которую мы потеряли</td>\n",
       "      <td>https://vk.com/economist?trackcode=cf7670c7dGz...</td>\n",
       "      <td>0</td>\n",
       "    </tr>\n",
       "    <tr>\n",
       "      <th>2</th>\n",
       "      <td>Кафедра \"Экономика\" ТГТУ</td>\n",
       "      <td>https://vk.com/tmbstu.economics?trackcode=4608...</td>\n",
       "      <td>0</td>\n",
       "    </tr>\n",
       "    <tr>\n",
       "      <th>3</th>\n",
       "      <td>Коммерсантъ Экономика</td>\n",
       "      <td>https://vk.com/kommersant.economics?trackcode=...</td>\n",
       "      <td>0</td>\n",
       "    </tr>\n",
       "    <tr>\n",
       "      <th>4</th>\n",
       "      <td>Economy of Armenia | Экономика Армении</td>\n",
       "      <td>https://vk.com/armeconomy?trackcode=0ccbdc7dwd...</td>\n",
       "      <td>0</td>\n",
       "    </tr>\n",
       "  </tbody>\n",
       "</table>\n",
       "</div>"
      ],
      "text/plain": [
       "                                     name  \\\n",
       "0                            Экономика РФ   \n",
       "1          Экономика, которую мы потеряли   \n",
       "2                Кафедра \"Экономика\" ТГТУ   \n",
       "3                   Коммерсантъ Экономика   \n",
       "4  Economy of Armenia | Экономика Армении   \n",
       "\n",
       "                                                link  class  \n",
       "0  https://vk.com/ecoruss?trackcode=31eb2085TMD9J...      0  \n",
       "1  https://vk.com/economist?trackcode=cf7670c7dGz...      0  \n",
       "2  https://vk.com/tmbstu.economics?trackcode=4608...      0  \n",
       "3  https://vk.com/kommersant.economics?trackcode=...      0  \n",
       "4  https://vk.com/armeconomy?trackcode=0ccbdc7dwd...      0  "
      ]
     },
     "execution_count": 21,
     "metadata": {},
     "output_type": "execute_result"
    }
   ],
   "source": [
    "data = pd.read_csv('data/groups_dataset.csv', index_col=[0])\n",
    "data.head()"
   ]
  },
  {
   "cell_type": "markdown",
   "id": "07bb6f36",
   "metadata": {},
   "source": [
    "### Подготовка данных для обучения"
   ]
  },
  {
   "cell_type": "code",
   "execution_count": 22,
   "id": "504b2a8e",
   "metadata": {},
   "outputs": [],
   "source": [
    "def clear_text(text):\n",
    "    cleared_text = str()\n",
    "    for char in text.lower():\n",
    "        if char.isalpha(): cleared_text += char\n",
    "        else: cleared_text += ' '\n",
    "    return cleared_text.strip()"
   ]
  },
  {
   "cell_type": "code",
   "execution_count": 24,
   "id": "c5fb1f59",
   "metadata": {},
   "outputs": [],
   "source": [
    "data_iter = list()\n",
    "\n",
    "for text, cls in zip(data['name'], data['class']):\n",
    "    try:\n",
    "        text = clear_text(text)\n",
    "        data_iter.append((cls, text))\n",
    "    except: ..."
   ]
  },
  {
   "cell_type": "markdown",
   "id": "4c7970c4",
   "metadata": {},
   "source": [
    "### Перемешивание данных"
   ]
  },
  {
   "cell_type": "code",
   "execution_count": 25,
   "id": "5ebcadd3",
   "metadata": {},
   "outputs": [],
   "source": [
    "import random\n",
    "\n",
    "\n",
    "random.shuffle(data_iter)"
   ]
  },
  {
   "cell_type": "markdown",
   "id": "ab3ae1d8",
   "metadata": {},
   "source": [
    "### Разбиение на тренировочную и тестировочную выборку"
   ]
  },
  {
   "cell_type": "code",
   "execution_count": 26,
   "id": "2f3bf72e",
   "metadata": {},
   "outputs": [],
   "source": [
    "limit = int(len(data_iter) * 0.85)\n",
    "\n",
    "train_iter, test_iter = data_iter[:limit], data_iter[limit:]"
   ]
  },
  {
   "cell_type": "code",
   "execution_count": 27,
   "id": "4070da99",
   "metadata": {},
   "outputs": [
    {
     "name": "stdout",
     "output_type": "stream",
     "text": [
      "Тренировочная выборка:  4590\n",
      "Тестировочную выборка:  810\n",
      "Всего данных выборка:  5400\n"
     ]
    }
   ],
   "source": [
    "print('Тренировочная выборка: ', len(train_iter))\n",
    "print('Тестировочную выборка: ', len(test_iter))\n",
    "print('Всего данных выборка: ', len(data_iter))"
   ]
  },
  {
   "cell_type": "markdown",
   "id": "3541acfb",
   "metadata": {},
   "source": [
    "### Кодировка текста с помощью словаря"
   ]
  },
  {
   "cell_type": "code",
   "execution_count": 28,
   "id": "03666e4c",
   "metadata": {},
   "outputs": [],
   "source": [
    "tokenizer = get_tokenizer('basic_english')\n",
    "\n",
    "def generate_token(data_iter):\n",
    "    for _, text in data_iter:\n",
    "        yield tokenizer(text)\n",
    "\n",
    "vocab = build_vocab_from_iterator(yield_tokens(train_iter), specials=[\"<unk>\"])\n",
    "vocab.set_default_index(vocab[\"<unk>\"])"
   ]
  },
  {
   "cell_type": "code",
   "execution_count": 29,
   "id": "18e3eab8",
   "metadata": {},
   "outputs": [],
   "source": [
    "text_pipeline = lambda x: vocab(tokenizer(x))\n",
    "label_pipeline = lambda x: int(x)"
   ]
  },
  {
   "cell_type": "markdown",
   "id": "9059a43a",
   "metadata": {},
   "source": [
    "### Разбивка данных на пакеты"
   ]
  },
  {
   "cell_type": "code",
   "execution_count": 30,
   "id": "4afc6ce8",
   "metadata": {},
   "outputs": [],
   "source": [
    "import torch\n",
    "from torch.utils.data import DataLoader\n",
    "\n",
    "\n",
    "device = torch.device(\"cuda\" if torch.cuda.is_available() else \"cpu\")\n",
    "\n",
    "def collate_batch(batch):\n",
    "    label_list, text_list, offsets = [], [], [0]\n",
    "    for (_label, _text) in batch:\n",
    "        label_list.append(label_pipeline(_label))\n",
    "        processed_text = torch.tensor(text_pipeline(_text), dtype=torch.int64)\n",
    "        text_list.append(processed_text)\n",
    "        offsets.append(processed_text.size(0))\n",
    "    label_list = torch.tensor(label_list, dtype=torch.int64)\n",
    "    offsets = torch.tensor(offsets[:-1]).cumsum(dim=0)\n",
    "    text_list = torch.cat(text_list)\n",
    "    return label_list.to(device), text_list.to(device), offsets.to(device)\n",
    "\n",
    "dataloader = DataLoader(train_iter, batch_size=8, shuffle=False, collate_fn=collate_batch)"
   ]
  },
  {
   "cell_type": "markdown",
   "id": "d8d0ae73",
   "metadata": {},
   "source": [
    "### Модель нейронной сети"
   ]
  },
  {
   "cell_type": "code",
   "execution_count": 31,
   "id": "370727dc",
   "metadata": {},
   "outputs": [],
   "source": [
    "class TextClassificationModel(nn.Module):\n",
    "\n",
    "    def __init__(self, vocab_size, embed_dim, num_class):\n",
    "        super(TextClassificationModel, self).__init__()\n",
    "        self.embedding = nn.EmbeddingBag(vocab_size, embed_dim, sparse=False)\n",
    "        self.fc = nn.Linear(embed_dim, num_class)\n",
    "        self.init_weights()\n",
    "\n",
    "    def init_weights(self):\n",
    "        initrange = 0.5\n",
    "        self.embedding.weight.data.uniform_(-initrange, initrange)\n",
    "        self.fc.weight.data.uniform_(-initrange, initrange)\n",
    "        self.fc.bias.data.zero_()\n",
    "\n",
    "    def forward(self, text, offsets):\n",
    "        embedded = self.embedding(text, offsets)\n",
    "        return self.fc(embedded)"
   ]
  },
  {
   "cell_type": "markdown",
   "id": "a9388f0b",
   "metadata": {},
   "source": [
    "### Функции обучения и тестирования"
   ]
  },
  {
   "cell_type": "code",
   "execution_count": 32,
   "id": "908d7bed",
   "metadata": {},
   "outputs": [],
   "source": [
    "def train(dataloader):\n",
    "    model.train()\n",
    "    total_acc, total_count = 0, 0\n",
    "    log_interval = 500\n",
    "    start_time = time.time()\n",
    "\n",
    "    for idx, (label, text, offsets) in enumerate(dataloader):\n",
    "        optimizer.zero_grad()\n",
    "        predicted_label = model(text, offsets)\n",
    "        loss = criterion(predicted_label, label)\n",
    "        loss.backward()\n",
    "        torch.nn.utils.clip_grad_norm_(model.parameters(), 0.1)\n",
    "        optimizer.step()\n",
    "        total_acc += (predicted_label.argmax(1) == label).sum().item()\n",
    "        total_count += label.size(0)\n",
    "        if idx % log_interval == 0 and idx > 0:\n",
    "            elapsed = time.time() - start_time\n",
    "            print('| epoch {:3d} | {:5d}/{:5d} batches '\n",
    "                  '| accuracy {:8.3f}'.format(epoch, idx, len(dataloader),\n",
    "                                              total_acc/total_count))\n",
    "            total_acc, total_count = 0, 0\n",
    "            start_time = time.time()\n",
    "\n",
    "            \n",
    "def evaluate(dataloader):\n",
    "    model.eval()\n",
    "    total_acc, total_count = 0, 0\n",
    "\n",
    "    with torch.no_grad():\n",
    "        for idx, (label, text, offsets) in enumerate(dataloader):\n",
    "            predicted_label = model(text, offsets)\n",
    "            loss = criterion(predicted_label, label)\n",
    "            total_acc += (predicted_label.argmax(1) == label).sum().item()\n",
    "            total_count += label.size(0)\n",
    "    return total_acc/total_count"
   ]
  },
  {
   "cell_type": "markdown",
   "id": "75574c06",
   "metadata": {},
   "source": [
    "### Параметры обучения"
   ]
  },
  {
   "cell_type": "code",
   "execution_count": 36,
   "id": "b66370cd",
   "metadata": {},
   "outputs": [],
   "source": [
    "num_class = len(set([label for (label, text) in train_iter]))\n",
    "vocab_size = len(vocab)\n",
    "emsize = 64\n",
    "\n",
    "EPOCHS = 20 \n",
    "LR = 0.1 \n",
    "BATCH_SIZE = 64 \n",
    "\n",
    "criterion = torch.nn.CrossEntropyLoss()"
   ]
  },
  {
   "cell_type": "code",
   "execution_count": 37,
   "id": "64351f62",
   "metadata": {},
   "outputs": [],
   "source": [
    "total_accu = None\n",
    "\n",
    "train_dataset = to_map_style_dataset(train_iter)\n",
    "test_dataset = to_map_style_dataset(test_iter)\n",
    "num_train = int(len(train_dataset) * 0.95)\n",
    "\n",
    "split_train_, split_valid_ = random_split(train_dataset, [num_train, len(train_dataset) - num_train])\n",
    "\n",
    "train_dataloader = DataLoader(split_train_, batch_size=BATCH_SIZE, shuffle=True, collate_fn=collate_batch)\n",
    "valid_dataloader = DataLoader(split_valid_, batch_size=BATCH_SIZE, shuffle=True, collate_fn=collate_batch)\n",
    "test_dataloader = DataLoader(test_dataset, batch_size=BATCH_SIZE, shuffle=True, collate_fn=collate_batch)"
   ]
  },
  {
   "cell_type": "markdown",
   "id": "cf3238cb",
   "metadata": {},
   "source": [
    "### Обучение нейронной сети"
   ]
  },
  {
   "cell_type": "code",
   "execution_count": 38,
   "id": "f7478f87",
   "metadata": {},
   "outputs": [],
   "source": [
    "model = TextClassificationModel(vocab_size, emsize, num_class).to(device)\n",
    "optimizer = torch.optim.SGD(model.parameters(), lr=LR)\n",
    "scheduler = torch.optim.lr_scheduler.StepLR(optimizer, 1.0, gamma=0.1)"
   ]
  },
  {
   "cell_type": "code",
   "execution_count": 39,
   "id": "7abe5818",
   "metadata": {},
   "outputs": [
    {
     "name": "stdout",
     "output_type": "stream",
     "text": [
      "-----------------------------------------------------------\n",
      "| end of epoch   1 | time:  0.24s | valid accuracy    0.148 \n",
      "-----------------------------------------------------------\n",
      "-----------------------------------------------------------\n",
      "| end of epoch   2 | time:  0.17s | valid accuracy    0.274 \n",
      "-----------------------------------------------------------\n",
      "-----------------------------------------------------------\n",
      "| end of epoch   3 | time:  0.18s | valid accuracy    0.391 \n",
      "-----------------------------------------------------------\n",
      "-----------------------------------------------------------\n",
      "| end of epoch   4 | time:  0.17s | valid accuracy    0.483 \n",
      "-----------------------------------------------------------\n",
      "-----------------------------------------------------------\n",
      "| end of epoch   5 | time:  0.23s | valid accuracy    0.609 \n",
      "-----------------------------------------------------------\n",
      "-----------------------------------------------------------\n",
      "| end of epoch   6 | time:  0.22s | valid accuracy    0.687 \n",
      "-----------------------------------------------------------\n",
      "-----------------------------------------------------------\n",
      "| end of epoch   7 | time:  0.18s | valid accuracy    0.743 \n",
      "-----------------------------------------------------------\n",
      "-----------------------------------------------------------\n",
      "| end of epoch   8 | time:  0.19s | valid accuracy    0.787 \n",
      "-----------------------------------------------------------\n",
      "-----------------------------------------------------------\n",
      "| end of epoch   9 | time:  0.29s | valid accuracy    0.817 \n",
      "-----------------------------------------------------------\n",
      "-----------------------------------------------------------\n",
      "| end of epoch  10 | time:  0.24s | valid accuracy    0.843 \n",
      "-----------------------------------------------------------\n",
      "-----------------------------------------------------------\n",
      "| end of epoch  11 | time:  0.19s | valid accuracy    0.857 \n",
      "-----------------------------------------------------------\n",
      "-----------------------------------------------------------\n",
      "| end of epoch  12 | time:  0.19s | valid accuracy    0.870 \n",
      "-----------------------------------------------------------\n",
      "-----------------------------------------------------------\n",
      "| end of epoch  13 | time:  0.17s | valid accuracy    0.887 \n",
      "-----------------------------------------------------------\n",
      "-----------------------------------------------------------\n",
      "| end of epoch  14 | time:  0.19s | valid accuracy    0.896 \n",
      "-----------------------------------------------------------\n",
      "-----------------------------------------------------------\n",
      "| end of epoch  15 | time:  0.27s | valid accuracy    0.904 \n",
      "-----------------------------------------------------------\n",
      "-----------------------------------------------------------\n",
      "| end of epoch  16 | time:  0.30s | valid accuracy    0.909 \n",
      "-----------------------------------------------------------\n",
      "-----------------------------------------------------------\n",
      "| end of epoch  17 | time:  0.32s | valid accuracy    0.909 \n",
      "-----------------------------------------------------------\n",
      "-----------------------------------------------------------\n",
      "| end of epoch  18 | time:  0.38s | valid accuracy    0.913 \n",
      "-----------------------------------------------------------\n",
      "-----------------------------------------------------------\n",
      "| end of epoch  19 | time:  0.28s | valid accuracy    0.917 \n",
      "-----------------------------------------------------------\n",
      "-----------------------------------------------------------\n",
      "| end of epoch  20 | time:  0.32s | valid accuracy    0.922 \n",
      "-----------------------------------------------------------\n"
     ]
    }
   ],
   "source": [
    "for epoch in range(1, EPOCHS + 1):\n",
    "    epoch_start_time = time.time()\n",
    "    train(train_dataloader)\n",
    "    accu_val = evaluate(valid_dataloader)\n",
    "    if total_accu is not None and total_accu > accu_val:\n",
    "        scheduler.step()\n",
    "    else:\n",
    "        total_accu = accu_val\n",
    "    print('-' * 59)\n",
    "    print('| end of epoch {:3d} | time: {:5.2f}s | '\n",
    "          'valid accuracy {:8.3f} '.format(epoch,\n",
    "                                           time.time() - epoch_start_time,\n",
    "                                           accu_val))\n",
    "    print('-' * 59)"
   ]
  },
  {
   "cell_type": "markdown",
   "id": "603771a1",
   "metadata": {},
   "source": [
    "### Тестирование модели"
   ]
  },
  {
   "cell_type": "code",
   "execution_count": 41,
   "id": "447bd08f",
   "metadata": {},
   "outputs": [],
   "source": [
    "def predict(text, text_pipeline):\n",
    "    with torch.no_grad():\n",
    "        text = torch.tensor(text_pipeline(text))\n",
    "        output = model(text, torch.tensor([0]))\n",
    "        return output.argmax(1).item() "
   ]
  },
  {
   "cell_type": "code",
   "execution_count": 44,
   "id": "95c96c44",
   "metadata": {},
   "outputs": [
    {
     "name": "stdout",
     "output_type": "stream",
     "text": [
      "Точность на тестовой выборке:  0.91 %\n"
     ]
    }
   ],
   "source": [
    "acc, total = 0, 0\n",
    "\n",
    "for cls, text in test_iter:\n",
    "    if text:\n",
    "        pred_cls = predict(text, text_pipeline)\n",
    "        if cls == pred_cls: acc += 1\n",
    "        total += 1\n",
    "\n",
    "print('Точность на тестовой выборке: ', round(acc / total, 2), '%')"
   ]
  },
  {
   "cell_type": "markdown",
   "id": "3f13e2e2",
   "metadata": {},
   "source": [
    "### Сохранение модели "
   ]
  },
  {
   "cell_type": "code",
   "execution_count": 47,
   "id": "9f6f8b1d",
   "metadata": {},
   "outputs": [],
   "source": [
    "torch.save(model, 'model.pth')"
   ]
  },
  {
   "cell_type": "code",
   "execution_count": null,
   "id": "66f59cbf",
   "metadata": {},
   "outputs": [],
   "source": []
  }
 ],
 "metadata": {
  "kernelspec": {
   "display_name": "Python 3 (ipykernel)",
   "language": "python",
   "name": "python3"
  },
  "language_info": {
   "codemirror_mode": {
    "name": "ipython",
    "version": 3
   },
   "file_extension": ".py",
   "mimetype": "text/x-python",
   "name": "python",
   "nbconvert_exporter": "python",
   "pygments_lexer": "ipython3",
   "version": "3.10.9"
  }
 },
 "nbformat": 4,
 "nbformat_minor": 5
}
