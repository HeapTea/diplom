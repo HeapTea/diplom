{
 "cells": [
  {
   "cell_type": "markdown",
   "id": "10f05f33",
   "metadata": {},
   "source": [
    "### Импорт данных"
   ]
  },
  {
   "cell_type": "code",
   "execution_count": 5,
   "id": "76f72261",
   "metadata": {},
   "outputs": [],
   "source": [
    "import tqdm\n",
    "import time\n",
    "import pandas as pd\n",
    "from selenium.webdriver import Chrome\n",
    "from selenium.webdriver.common.by import By"
   ]
  },
  {
   "cell_type": "markdown",
   "id": "74c00af5",
   "metadata": {},
   "source": [
    "### Инициализация драйвера"
   ]
  },
  {
   "cell_type": "code",
   "execution_count": 27,
   "id": "ac544010",
   "metadata": {},
   "outputs": [],
   "source": [
    "driver = Chrome()\n",
    "driver.get('https://vk.com/groups')"
   ]
  },
  {
   "cell_type": "markdown",
   "id": "330a0148",
   "metadata": {},
   "source": [
    "### Ключевые слова для поиска групп"
   ]
  },
  {
   "cell_type": "code",
   "execution_count": 20,
   "id": "c9617bf6",
   "metadata": {},
   "outputs": [],
   "source": [
    "keywords = {\n",
    "    0: ['экнономика'], \n",
    "    1: ['искусство'],\n",
    "    2: ['филологиия', 'журналистика'],\n",
    "    3: ['физическая культура'],\n",
    "    4: ['право', 'национальная безопасность'],\n",
    "    5: ['естествознание', 'химия', 'биология'],\n",
    "    6: ['медицина'],\n",
    "    7: ['падагогия'],\n",
    "    8: ['математика', 'физика', 'информатика', 'программирование'],\n",
    "    9: ['история', 'мировая политика', 'социология']   \n",
    "}"
   ]
  },
  {
   "cell_type": "markdown",
   "id": "56e76ad6",
   "metadata": {},
   "source": [
    "### Сбор данных"
   ]
  },
  {
   "cell_type": "code",
   "execution_count": 25,
   "id": "61856998",
   "metadata": {},
   "outputs": [],
   "source": [
    "links = []\n",
    "\n",
    "\n",
    "for cls in tqdm.tqdm(keywords):\n",
    "    for keyword in keywords[cls]:\n",
    "        driver.find_element(By.CLASS_NAME, \"ui_search_field\").clear()\n",
    "        driver.find_element(By.CLASS_NAME, \"ui_search_field\").send_keys(keyword)\n",
    "        driver.find_element(By.CLASS_NAME, \"ui_search_button_search\").click()\n",
    "        for i in range(0, 5): \n",
    "                time.sleep(3)\n",
    "                driver.execute_script(\"window.scrollTo(0, document.body.scrollHeight);\")\n",
    "                titles = driver.find_elements(By.CLASS_NAME, \"verified_label\")\n",
    "                for title in titles:\n",
    "                    a = title.find_element(By.TAG_NAME, \"a\")\n",
    "                    record = {'name': a.text, 'link': a.get_attribute('href'), 'class': cls}\n",
    "                    print(cls, record)\n",
    "                    links.append(record)"
   ]
  },
  {
   "cell_type": "markdown",
   "id": "48c53130",
   "metadata": {},
   "source": [
    "### Сохранение в CSV"
   ]
  },
  {
   "cell_type": "code",
   "execution_count": 9,
   "id": "95c3918a",
   "metadata": {},
   "outputs": [],
   "source": [
    "data = pd.DataFrame(links)\n",
    "data.to_csv('data/groups_dataset.csv')"
   ]
  },
  {
   "cell_type": "code",
   "execution_count": 12,
   "id": "3fbb4744",
   "metadata": {},
   "outputs": [
    {
     "data": {
      "text/html": [
       "<div>\n",
       "<style scoped>\n",
       "    .dataframe tbody tr th:only-of-type {\n",
       "        vertical-align: middle;\n",
       "    }\n",
       "\n",
       "    .dataframe tbody tr th {\n",
       "        vertical-align: top;\n",
       "    }\n",
       "\n",
       "    .dataframe thead th {\n",
       "        text-align: right;\n",
       "    }\n",
       "</style>\n",
       "<table border=\"1\" class=\"dataframe\">\n",
       "  <thead>\n",
       "    <tr style=\"text-align: right;\">\n",
       "      <th></th>\n",
       "      <th>name</th>\n",
       "      <th>link</th>\n",
       "      <th>class</th>\n",
       "    </tr>\n",
       "  </thead>\n",
       "  <tbody>\n",
       "    <tr>\n",
       "      <th>0</th>\n",
       "      <td>Экономика РФ</td>\n",
       "      <td>https://vk.com/ecoruss?trackcode=31eb2085TMD9J...</td>\n",
       "      <td>0</td>\n",
       "    </tr>\n",
       "    <tr>\n",
       "      <th>1</th>\n",
       "      <td>Экономика, которую мы потеряли</td>\n",
       "      <td>https://vk.com/economist?trackcode=cf7670c7dGz...</td>\n",
       "      <td>0</td>\n",
       "    </tr>\n",
       "    <tr>\n",
       "      <th>2</th>\n",
       "      <td>Кафедра \"Экономика\" ТГТУ</td>\n",
       "      <td>https://vk.com/tmbstu.economics?trackcode=4608...</td>\n",
       "      <td>0</td>\n",
       "    </tr>\n",
       "    <tr>\n",
       "      <th>3</th>\n",
       "      <td>Коммерсантъ Экономика</td>\n",
       "      <td>https://vk.com/kommersant.economics?trackcode=...</td>\n",
       "      <td>0</td>\n",
       "    </tr>\n",
       "    <tr>\n",
       "      <th>4</th>\n",
       "      <td>Economy of Armenia | Экономика Армении</td>\n",
       "      <td>https://vk.com/armeconomy?trackcode=0ccbdc7dwd...</td>\n",
       "      <td>0</td>\n",
       "    </tr>\n",
       "  </tbody>\n",
       "</table>\n",
       "</div>"
      ],
      "text/plain": [
       "                                     name  \\\n",
       "0                            Экономика РФ   \n",
       "1          Экономика, которую мы потеряли   \n",
       "2                Кафедра \"Экономика\" ТГТУ   \n",
       "3                   Коммерсантъ Экономика   \n",
       "4  Economy of Armenia | Экономика Армении   \n",
       "\n",
       "                                                link  class  \n",
       "0  https://vk.com/ecoruss?trackcode=31eb2085TMD9J...      0  \n",
       "1  https://vk.com/economist?trackcode=cf7670c7dGz...      0  \n",
       "2  https://vk.com/tmbstu.economics?trackcode=4608...      0  \n",
       "3  https://vk.com/kommersant.economics?trackcode=...      0  \n",
       "4  https://vk.com/armeconomy?trackcode=0ccbdc7dwd...      0  "
      ]
     },
     "execution_count": 12,
     "metadata": {},
     "output_type": "execute_result"
    }
   ],
   "source": [
    "data = pd.read_csv('data/groups_dataset.csv', index_col=[0])\n",
    "data.head()"
   ]
  },
  {
   "cell_type": "code",
   "execution_count": null,
   "id": "91f04783",
   "metadata": {},
   "outputs": [],
   "source": []
  }
 ],
 "metadata": {
  "kernelspec": {
   "display_name": "Python 3 (ipykernel)",
   "language": "python",
   "name": "python3"
  },
  "language_info": {
   "codemirror_mode": {
    "name": "ipython",
    "version": 3
   },
   "file_extension": ".py",
   "mimetype": "text/x-python",
   "name": "python",
   "nbconvert_exporter": "python",
   "pygments_lexer": "ipython3",
   "version": "3.10.9"
  }
 },
 "nbformat": 4,
 "nbformat_minor": 5
}
